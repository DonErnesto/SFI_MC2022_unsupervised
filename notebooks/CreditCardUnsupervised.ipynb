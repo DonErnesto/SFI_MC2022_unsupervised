{
 "cells": [
  {
   "cell_type": "markdown",
   "metadata": {},
   "source": [
    "<a href=\"https://colab.research.google.com/github/DonErnesto/masterclassSFI_2021/blob/main/notebooks/CreditCardUnsupervised.ipynb\" target=\"_parent\"><img src=\"https://colab.research.google.com/assets/colab-badge.svg\" alt=\"Open In Colab\"/></a>"
   ]
  },
  {
   "cell_type": "markdown",
   "metadata": {},
   "source": [
    "# Fraud Detection with Unsupervised Outlier Detection\n",
    "\n",
    "\n",
    "## Introduction \n",
    "\n",
    "The purpose of this Jupyter notebook is to take you through several unsupervised outlier detection algorithms, and show their value for the purpose of fraud detection. The completely different situation compared to the supervised case, is that we -assume to- have no or too few labels to learn from. This is typically the case in fraud detection, as fraudulent events are often very rare. In applying an outlier detection for fraud detection, we hypothesize that payment patterns that are \"untypical\" (i.e., outliers) are more likely to be fraudulent.  \n",
    "\n",
    "Generally, an unsupervised approach is taken only when there are no or too few labels available. For this masterclass, we do use a dataset that was labeled, but will not make use of those labels until after we made predictions to get a feeling of how the various algorithms perform and compare. \n",
    "\n",
    "The data is taken from https://www.kaggle.com/mlg-ulb/creditcardfraud, and has been downsampled for the purpose of this masterclass. "
   ]
  },
  {
   "cell_type": "markdown",
   "metadata": {},
   "source": [
    "Note that there are two types of cells in this notebook: **markdown cells** (that contain text, like this one), and **code cells** (that execute some code, like the next cell). "
   ]
  },
  {
   "cell_type": "code",
   "execution_count": null,
   "metadata": {},
   "outputs": [],
   "source": [
    "## Data import from Github\n",
    "import os\n",
    "if not os.path.exists('X_unsupervised.csv.zip'):\n",
    "    !curl -O https://raw.githubusercontent.com/DonErnesto/masterclassSFI_2021/main/data/X_unsupervised.csv.zip"
   ]
  },
  {
   "cell_type": "markdown",
   "metadata": {},
   "source": [
    "We will be using the `pandas` package for data handling and manipulation, and later `scikit-learn` (imported with \"sklearn\") and `pyod` to obtain outlier detection algorithms. "
   ]
  },
  {
   "cell_type": "code",
   "execution_count": 65,
   "metadata": {},
   "outputs": [],
   "source": [
    "import warnings\n",
    "warnings.filterwarnings(\"ignore\")\n",
    "\n",
    "import tqdm\n",
    "import numpy as np\n",
    "import pandas as pd\n",
    "import matplotlib.pyplot as plt\n",
    "\n",
    "# A small hack: \"monkey-patching\" the DataFrame class to add column-wise normalization as a method\n",
    "def normalize_columns(self,):\n",
    "    return (self - self.mean()) / self.std()\n",
    "pd.DataFrame.normalize_columns = normalize_columns"
   ]
  },
  {
   "cell_type": "markdown",
   "metadata": {},
   "source": [
    "Next, we will load the data in a so-called DataFrame (with is a pandas object, and works much like an Excel sheet), and inspect it by plotting the first rows. \n",
    "\n",
    "We call the dataframe `X`, und use the DataFrames method `.head(n)` to display the top n rows (per default, n=5). "
   ]
  },
  {
   "cell_type": "code",
   "execution_count": 32,
   "metadata": {},
   "outputs": [
    {
     "data": {
      "text/html": [
       "<div>\n",
       "<style scoped>\n",
       "    .dataframe tbody tr th:only-of-type {\n",
       "        vertical-align: middle;\n",
       "    }\n",
       "\n",
       "    .dataframe tbody tr th {\n",
       "        vertical-align: top;\n",
       "    }\n",
       "\n",
       "    .dataframe thead th {\n",
       "        text-align: right;\n",
       "    }\n",
       "</style>\n",
       "<table border=\"1\" class=\"dataframe\">\n",
       "  <thead>\n",
       "    <tr style=\"text-align: right;\">\n",
       "      <th></th>\n",
       "      <th>Time</th>\n",
       "      <th>V1</th>\n",
       "      <th>V2</th>\n",
       "      <th>V3</th>\n",
       "      <th>V4</th>\n",
       "      <th>V5</th>\n",
       "      <th>V6</th>\n",
       "      <th>V7</th>\n",
       "      <th>V8</th>\n",
       "      <th>V9</th>\n",
       "      <th>...</th>\n",
       "      <th>V20</th>\n",
       "      <th>V21</th>\n",
       "      <th>V22</th>\n",
       "      <th>V23</th>\n",
       "      <th>V24</th>\n",
       "      <th>V25</th>\n",
       "      <th>V26</th>\n",
       "      <th>V27</th>\n",
       "      <th>V28</th>\n",
       "      <th>Amount</th>\n",
       "    </tr>\n",
       "  </thead>\n",
       "  <tbody>\n",
       "    <tr>\n",
       "      <th>0</th>\n",
       "      <td>0.0</td>\n",
       "      <td>-0.7200</td>\n",
       "      <td>0.1262</td>\n",
       "      <td>-0.2262</td>\n",
       "      <td>-0.7573</td>\n",
       "      <td>0.2147</td>\n",
       "      <td>0.3516</td>\n",
       "      <td>1.4450</td>\n",
       "      <td>-0.6830</td>\n",
       "      <td>-0.5464</td>\n",
       "      <td>...</td>\n",
       "      <td>-0.0378</td>\n",
       "      <td>-0.3525</td>\n",
       "      <td>0.6494</td>\n",
       "      <td>-1.0810</td>\n",
       "      <td>-0.39230</td>\n",
       "      <td>-0.14340</td>\n",
       "      <td>-0.6920</td>\n",
       "      <td>0.8833</td>\n",
       "      <td>-0.210200</td>\n",
       "      <td>5.46</td>\n",
       "    </tr>\n",
       "    <tr>\n",
       "      <th>1</th>\n",
       "      <td>0.0</td>\n",
       "      <td>-1.4110</td>\n",
       "      <td>0.3550</td>\n",
       "      <td>-1.0470</td>\n",
       "      <td>0.9326</td>\n",
       "      <td>-1.4970</td>\n",
       "      <td>0.3967</td>\n",
       "      <td>-1.4750</td>\n",
       "      <td>1.0490</td>\n",
       "      <td>-1.7940</td>\n",
       "      <td>...</td>\n",
       "      <td>-0.4248</td>\n",
       "      <td>-0.3650</td>\n",
       "      <td>0.9517</td>\n",
       "      <td>0.5230</td>\n",
       "      <td>0.10830</td>\n",
       "      <td>-0.13880</td>\n",
       "      <td>2.5820</td>\n",
       "      <td>-0.3887</td>\n",
       "      <td>0.009520</td>\n",
       "      <td>52.53</td>\n",
       "    </tr>\n",
       "    <tr>\n",
       "      <th>2</th>\n",
       "      <td>1.0</td>\n",
       "      <td>0.4917</td>\n",
       "      <td>-1.4040</td>\n",
       "      <td>1.0270</td>\n",
       "      <td>0.9020</td>\n",
       "      <td>-0.7363</td>\n",
       "      <td>-0.3188</td>\n",
       "      <td>0.2524</td>\n",
       "      <td>-2.0230</td>\n",
       "      <td>0.4365</td>\n",
       "      <td>...</td>\n",
       "      <td>-1.0470</td>\n",
       "      <td>-0.7330</td>\n",
       "      <td>-0.1733</td>\n",
       "      <td>1.0900</td>\n",
       "      <td>0.56400</td>\n",
       "      <td>-0.55700</td>\n",
       "      <td>-0.0928</td>\n",
       "      <td>1.5810</td>\n",
       "      <td>-0.005043</td>\n",
       "      <td>22.48</td>\n",
       "    </tr>\n",
       "    <tr>\n",
       "      <th>3</th>\n",
       "      <td>1.0</td>\n",
       "      <td>-1.2430</td>\n",
       "      <td>0.2893</td>\n",
       "      <td>-0.7030</td>\n",
       "      <td>0.7340</td>\n",
       "      <td>-0.1942</td>\n",
       "      <td>0.4436</td>\n",
       "      <td>0.3428</td>\n",
       "      <td>-0.1865</td>\n",
       "      <td>-0.1589</td>\n",
       "      <td>...</td>\n",
       "      <td>-2.2770</td>\n",
       "      <td>0.4973</td>\n",
       "      <td>0.7670</td>\n",
       "      <td>-0.3362</td>\n",
       "      <td>-0.00434</td>\n",
       "      <td>0.02498</td>\n",
       "      <td>0.7993</td>\n",
       "      <td>0.4668</td>\n",
       "      <td>0.074460</td>\n",
       "      <td>15.00</td>\n",
       "    </tr>\n",
       "    <tr>\n",
       "      <th>4</th>\n",
       "      <td>2.0</td>\n",
       "      <td>0.2642</td>\n",
       "      <td>0.7010</td>\n",
       "      <td>1.5230</td>\n",
       "      <td>-1.4570</td>\n",
       "      <td>-0.3555</td>\n",
       "      <td>1.1720</td>\n",
       "      <td>-0.7266</td>\n",
       "      <td>-1.4990</td>\n",
       "      <td>-0.5590</td>\n",
       "      <td>...</td>\n",
       "      <td>-1.3620</td>\n",
       "      <td>0.5350</td>\n",
       "      <td>-2.4450</td>\n",
       "      <td>1.5910</td>\n",
       "      <td>0.87200</td>\n",
       "      <td>-0.67870</td>\n",
       "      <td>0.9653</td>\n",
       "      <td>0.1272</td>\n",
       "      <td>0.132400</td>\n",
       "      <td>237.00</td>\n",
       "    </tr>\n",
       "  </tbody>\n",
       "</table>\n",
       "<p>5 rows × 30 columns</p>\n",
       "</div>"
      ],
      "text/plain": [
       "   Time      V1      V2      V3      V4      V5      V6      V7      V8  \\\n",
       "0   0.0 -0.7200  0.1262 -0.2262 -0.7573  0.2147  0.3516  1.4450 -0.6830   \n",
       "1   0.0 -1.4110  0.3550 -1.0470  0.9326 -1.4970  0.3967 -1.4750  1.0490   \n",
       "2   1.0  0.4917 -1.4040  1.0270  0.9020 -0.7363 -0.3188  0.2524 -2.0230   \n",
       "3   1.0 -1.2430  0.2893 -0.7030  0.7340 -0.1942  0.4436  0.3428 -0.1865   \n",
       "4   2.0  0.2642  0.7010  1.5230 -1.4570 -0.3555  1.1720 -0.7266 -1.4990   \n",
       "\n",
       "       V9  ...     V20     V21     V22     V23      V24      V25     V26  \\\n",
       "0 -0.5464  ... -0.0378 -0.3525  0.6494 -1.0810 -0.39230 -0.14340 -0.6920   \n",
       "1 -1.7940  ... -0.4248 -0.3650  0.9517  0.5230  0.10830 -0.13880  2.5820   \n",
       "2  0.4365  ... -1.0470 -0.7330 -0.1733  1.0900  0.56400 -0.55700 -0.0928   \n",
       "3 -0.1589  ... -2.2770  0.4973  0.7670 -0.3362 -0.00434  0.02498  0.7993   \n",
       "4 -0.5590  ... -1.3620  0.5350 -2.4450  1.5910  0.87200 -0.67870  0.9653   \n",
       "\n",
       "      V27       V28  Amount  \n",
       "0  0.8833 -0.210200    5.46  \n",
       "1 -0.3887  0.009520   52.53  \n",
       "2  1.5810 -0.005043   22.48  \n",
       "3  0.4668  0.074460   15.00  \n",
       "4  0.1272  0.132400  237.00  \n",
       "\n",
       "[5 rows x 30 columns]"
      ]
     },
     "execution_count": 32,
     "metadata": {},
     "output_type": "execute_result"
    }
   ],
   "source": [
    "X = pd.read_csv('X_unsupervised.csv.zip')\n",
    "X.head()"
   ]
  },
  {
   "cell_type": "code",
   "execution_count": null,
   "metadata": {},
   "outputs": [],
   "source": [
    "print(f'The data has {len(X)} rows and {len(X.columns)} columns')"
   ]
  },
  {
   "cell_type": "markdown",
   "metadata": {},
   "source": [
    "The data describes credit card transactions, one transaction per row. There are 30'000 rows, with 30 columns. \n",
    "\n",
    "As you see, all features are numeric. The `Vx` features are the result of a mathematical operation called PCA. In reality we are often dealing with non-numerical data (text, categories, ...), that require some effort to be converted to numerical, making it suitable for the mathematical models we work with. Not having to deal with that complexity right now, we can save some time. \n"
   ]
  },
  {
   "cell_type": "markdown",
   "metadata": {},
   "source": [
    "## In-class example: home-made outlier scores on two columns of X\n",
    "\n",
    "To demonstrate elementary data-wrangling functions in pandas and to demonstrate the workflow of the break-out sessions, we will look at a subset of the full dataset and hand-craft outlier scores that we will evaluate. \n",
    "\n"
   ]
  },
  {
   "cell_type": "code",
   "execution_count": 60,
   "metadata": {},
   "outputs": [],
   "source": [
    "# Make a new dataset that consists of two select columns from the full dataset\n",
    "# use .loc[] two subset the DataFrame\n",
    "# We call this new DataFrame X_2cols\n",
    "X_2cols = X.loc[:, ['V2', 'Amount']]"
   ]
  },
  {
   "cell_type": "code",
   "execution_count": 57,
   "metadata": {},
   "outputs": [
    {
     "data": {
      "image/png": "[encoded data removed]",
      "text/plain": [
       "<Figure size 432x288 with 1 Axes>"
      ]
     },
     "metadata": {},
     "output_type": "display_data"
    }
   ],
   "source": [
    "# We can visualize this 2-D dataset in a scatterplot\n",
    "plt.scatter(X_2cols['V2'], X_2cols['Amount'], s=40, cmap='viridis');"
   ]
  },
  {
   "cell_type": "markdown",
   "metadata": {},
   "source": [
    "In this 2-dimensional dataset we see some obvious outliers. Let's calculate outlier scores ourselves and evaluate the results visually. Before doing so, let's look at some elementary operations on DataFrames"
   ]
  },
  {
   "cell_type": "markdown",
   "metadata": {},
   "source": [
    "Some methods we can use on DataFrames are:\n",
    "\n",
    "- `.abs()` This method converts all values to absolute (and does not change the size of the DataFrame)\n",
    "- `.drop(columns=...)` This method drops the indicated columns (may be a string or a list of strings) \n",
    "- `.max(axis=1)` This method, when executed with axis=1, sums over all columns\n",
    "- `.mean(axis=1)` This method, with axis=1, takes the means over all columns \n",
    "\n",
    "Note that each of these methods return again a DataFrame. They may thus be executed one after the other (this is called \"method chaining\" in Python). "
   ]
  },
  {
   "cell_type": "code",
   "execution_count": 70,
   "metadata": {},
   "outputs": [
    {
     "data": {
      "text/html": [
       "<div>\n",
       "<style scoped>\n",
       "    .dataframe tbody tr th:only-of-type {\n",
       "        vertical-align: middle;\n",
       "    }\n",
       "\n",
       "    .dataframe tbody tr th {\n",
       "        vertical-align: top;\n",
       "    }\n",
       "\n",
       "    .dataframe thead th {\n",
       "        text-align: right;\n",
       "    }\n",
       "</style>\n",
       "<table border=\"1\" class=\"dataframe\">\n",
       "  <thead>\n",
       "    <tr style=\"text-align: right;\">\n",
       "      <th></th>\n",
       "      <th>V2</th>\n",
       "      <th>Amount</th>\n",
       "    </tr>\n",
       "  </thead>\n",
       "  <tbody>\n",
       "    <tr>\n",
       "      <th>0</th>\n",
       "      <td>0.1262</td>\n",
       "      <td>5.46</td>\n",
       "    </tr>\n",
       "    <tr>\n",
       "      <th>1</th>\n",
       "      <td>0.3550</td>\n",
       "      <td>52.53</td>\n",
       "    </tr>\n",
       "    <tr>\n",
       "      <th>2</th>\n",
       "      <td>-1.4040</td>\n",
       "      <td>22.48</td>\n",
       "    </tr>\n",
       "    <tr>\n",
       "      <th>3</th>\n",
       "      <td>0.2893</td>\n",
       "      <td>15.00</td>\n",
       "    </tr>\n",
       "    <tr>\n",
       "      <th>4</th>\n",
       "      <td>0.7010</td>\n",
       "      <td>237.00</td>\n",
       "    </tr>\n",
       "  </tbody>\n",
       "</table>\n",
       "</div>"
      ],
      "text/plain": [
       "       V2  Amount\n",
       "0  0.1262    5.46\n",
       "1  0.3550   52.53\n",
       "2 -1.4040   22.48\n",
       "3  0.2893   15.00\n",
       "4  0.7010  237.00"
      ]
     },
     "metadata": {},
     "output_type": "display_data"
    },
    {
     "data": {
      "text/html": [
       "<div>\n",
       "<style scoped>\n",
       "    .dataframe tbody tr th:only-of-type {\n",
       "        vertical-align: middle;\n",
       "    }\n",
       "\n",
       "    .dataframe tbody tr th {\n",
       "        vertical-align: top;\n",
       "    }\n",
       "\n",
       "    .dataframe thead th {\n",
       "        text-align: right;\n",
       "    }\n",
       "</style>\n",
       "<table border=\"1\" class=\"dataframe\">\n",
       "  <thead>\n",
       "    <tr style=\"text-align: right;\">\n",
       "      <th></th>\n",
       "      <th>V2</th>\n",
       "      <th>Amount</th>\n",
       "    </tr>\n",
       "  </thead>\n",
       "  <tbody>\n",
       "    <tr>\n",
       "      <th>0</th>\n",
       "      <td>0.1262</td>\n",
       "      <td>5.46</td>\n",
       "    </tr>\n",
       "    <tr>\n",
       "      <th>1</th>\n",
       "      <td>0.3550</td>\n",
       "      <td>52.53</td>\n",
       "    </tr>\n",
       "    <tr>\n",
       "      <th>2</th>\n",
       "      <td>1.4040</td>\n",
       "      <td>22.48</td>\n",
       "    </tr>\n",
       "    <tr>\n",
       "      <th>3</th>\n",
       "      <td>0.2893</td>\n",
       "      <td>15.00</td>\n",
       "    </tr>\n",
       "    <tr>\n",
       "      <th>4</th>\n",
       "      <td>0.7010</td>\n",
       "      <td>237.00</td>\n",
       "    </tr>\n",
       "  </tbody>\n",
       "</table>\n",
       "</div>"
      ],
      "text/plain": [
       "       V2  Amount\n",
       "0  0.1262    5.46\n",
       "1  0.3550   52.53\n",
       "2  1.4040   22.48\n",
       "3  0.2893   15.00\n",
       "4  0.7010  237.00"
      ]
     },
     "metadata": {},
     "output_type": "display_data"
    },
    {
     "data": {
      "text/html": [
       "<div>\n",
       "<style scoped>\n",
       "    .dataframe tbody tr th:only-of-type {\n",
       "        vertical-align: middle;\n",
       "    }\n",
       "\n",
       "    .dataframe tbody tr th {\n",
       "        vertical-align: top;\n",
       "    }\n",
       "\n",
       "    .dataframe thead th {\n",
       "        text-align: right;\n",
       "    }\n",
       "</style>\n",
       "<table border=\"1\" class=\"dataframe\">\n",
       "  <thead>\n",
       "    <tr style=\"text-align: right;\">\n",
       "      <th></th>\n",
       "      <th>V2</th>\n",
       "      <th>Amount</th>\n",
       "    </tr>\n",
       "  </thead>\n",
       "  <tbody>\n",
       "    <tr>\n",
       "      <th>0</th>\n",
       "      <td>0.171434</td>\n",
       "      <td>-0.348701</td>\n",
       "    </tr>\n",
       "    <tr>\n",
       "      <th>1</th>\n",
       "      <td>0.483451</td>\n",
       "      <td>-0.153090</td>\n",
       "    </tr>\n",
       "    <tr>\n",
       "      <th>2</th>\n",
       "      <td>-1.915313</td>\n",
       "      <td>-0.277970</td>\n",
       "    </tr>\n",
       "    <tr>\n",
       "      <th>3</th>\n",
       "      <td>0.393855</td>\n",
       "      <td>-0.309055</td>\n",
       "    </tr>\n",
       "    <tr>\n",
       "      <th>4</th>\n",
       "      <td>0.955294</td>\n",
       "      <td>0.613521</td>\n",
       "    </tr>\n",
       "  </tbody>\n",
       "</table>\n",
       "</div>"
      ],
      "text/plain": [
       "         V2    Amount\n",
       "0  0.171434 -0.348701\n",
       "1  0.483451 -0.153090\n",
       "2 -1.915313 -0.277970\n",
       "3  0.393855 -0.309055\n",
       "4  0.955294  0.613521"
      ]
     },
     "metadata": {},
     "output_type": "display_data"
    },
    {
     "data": {
      "text/plain": [
       "0      5.46\n",
       "1     52.53\n",
       "2     22.48\n",
       "3     15.00\n",
       "4    237.00\n",
       "dtype: float64"
      ]
     },
     "metadata": {},
     "output_type": "display_data"
    }
   ],
   "source": [
    "# Let's look at the original data, and what the operations do to it. \n",
    "# We only look at the first 5 rows (hence the .head() method at the end)\n",
    "display(X_2cols.head()) # original data\n",
    "display(X_2cols.abs().head()) # converted to absolute values\n",
    "display(X_2cols.normalize_columns().head()) # normalized columns: 0 mean and 1 variance\n",
    "display(X_2cols.max(axis=1).head()) # the row-wise maximum of the two columns"
   ]
  },
  {
   "cell_type": "markdown",
   "metadata": {},
   "source": [
    "The last result is a pd.Series (which is why it is displayed differently), which is a 1-D data structure. This is the form we need for our homemade outlier score: one score per row. "
   ]
  },
  {
   "cell_type": "code",
   "execution_count": 84,
   "metadata": {},
   "outputs": [],
   "source": [
    "# Some examples to make an outlier score below. Uncomment (remove the \"#\") to execute it.\n",
    "\n",
    "# homemade_outlier_scores = X_2cols.abs().max(axis=1)\n",
    "# homemade_outlier_scores = (X_2cols.normalize_columns()**2).mean(axis=1)\n",
    "# homemade_outlier_scores = X_2cols['Amount']\n",
    "# homemade_outlier_scores = (X_2cols.normalize_columns()**2).max(axis=1)\n"
   ]
  },
  {
   "cell_type": "markdown",
   "metadata": {},
   "source": [
    "**Question**: Which of the scores above would you choose? Why?"
   ]
  },
  {
   "cell_type": "code",
   "execution_count": 85,
   "metadata": {},
   "outputs": [
    {
     "data": {
      "image/png": "[encoded data removed]",
      "text/plain": [
       "<Figure size 432x288 with 1 Axes>"
      ]
     },
     "metadata": {},
     "output_type": "display_data"
    }
   ],
   "source": [
    "plt.scatter(X_2cols['V2'], X_2cols['Amount'], c=homemade_outlier_scores, s=40, cmap='viridis_r');"
   ]
  },
  {
   "cell_type": "markdown",
   "metadata": {},
   "source": [
    "Finally, we evaluate the scores in the Evaluation section at the very end. Note that in the break-out session, the evaluation should also be done at the very end, i.e., no \"peaking\" at the solution. \n"
   ]
  },
  {
   "cell_type": "code",
   "execution_count": null,
   "metadata": {},
   "outputs": [],
   "source": []
  },
  {
   "cell_type": "markdown",
   "metadata": {},
   "source": [
    "# Break-out session\n",
    "\n",
    "First run the cells below for important imports and to remove the \"Time\" column.\n",
    "\n",
    "Then go to the section of the outlier algorithm assigned to you or chosen by you below to generate your scores. Answer the questions belonging to your algorithm, and compare the results with those of your home-made algorithm (see section `Evaluation`)\n"
   ]
  },
  {
   "cell_type": "code",
   "execution_count": 18,
   "metadata": {},
   "outputs": [],
   "source": [
    "from sklearn.covariance import EmpiricalCovariance\n",
    "from sklearn.neighbors import NearestNeighbors\n",
    "from sklearn.ensemble import IsolationForest\n",
    "from sklearn.mixture import GaussianMixture\n",
    "from sklearn.preprocessing import MinMaxScaler\n",
    "\n",
    "try:\n",
    "    import pyod\n",
    "except ModuleNotFoundError:\n",
    "    !pip install pyod\n",
    "from pyod.models.auto_encoder import AutoEncoder"
   ]
  },
  {
   "cell_type": "code",
   "execution_count": null,
   "metadata": {},
   "outputs": [],
   "source": [
    "# We consider Time to be not meaningful for outlier detection\n",
    "X = X.drop(columns='Time')"
   ]
  },
  {
   "cell_type": "markdown",
   "metadata": {},
   "source": [
    "## Outlier algorithms\n"
   ]
  },
  {
   "cell_type": "markdown",
   "metadata": {},
   "source": [
    "### Mahalanobis Distance\n",
    "\n",
    "The Mahalanobis distance is a generalization of distance (measured in standard deviations) to a multivariate normal distribution. The assumption being made is thus that the data is normally distributed, and that outliers are located further away from the center than the inliers. \n",
    "\n",
    "Run the cells below to: \n",
    "- Create an EmpiricalCovariance object\n",
    "- Fit the data to this model\n",
    "- Assign the scores to `mah_outlier_scores`, using the method `.mahalanobis()`, applied on the fitted object `cov`\n",
    "\n",
    "If necessary, add a `-` after the equals sign of the assignment (remember, we want outlier scores to be large for outliers). "
   ]
  },
  {
   "cell_type": "code",
   "execution_count": null,
   "metadata": {},
   "outputs": [],
   "source": [
    "?EmpiricalCovariance"
   ]
  },
  {
   "cell_type": "code",
   "execution_count": null,
   "metadata": {},
   "outputs": [],
   "source": [
    "cov = EmpiricalCovariance()\n",
    "cov.fit(X)\n",
    "\n",
    "# cov is now an EmpiricalCovariance object that is fitted on the data X. \n",
    "# assign the mahalanobis scores using its .mahalanobis() method\n",
    "\n",
    "# mah_outlier_scores =  "
   ]
  },
  {
   "cell_type": "code",
   "execution_count": null,
   "metadata": {},
   "outputs": [],
   "source": [
    "# inspect the documentation to determine the correct sign for the scoring\n",
    "?cov.mahalanobis"
   ]
  },
  {
   "cell_type": "markdown",
   "metadata": {},
   "source": [
    "**Question**: in which situation is the ranking by a Mahalonobis-distance score equivalent by a ranking based on a column-wise sum of squared values? In this case, is this so? \n",
    "\n",
    "*Hint*: You may use `.std()` on X the get the standard deviations along its 30 dimensions"
   ]
  },
  {
   "cell_type": "code",
   "execution_count": null,
   "metadata": {},
   "outputs": [],
   "source": []
  },
  {
   "cell_type": "markdown",
   "metadata": {},
   "source": [
    "### Gaussian Mixture\n",
    "\n",
    "The Gaussian Mixture is a assumes the data consists of one or multiple \"blobs\" of clusters with some normal distribution (NB: with a co-variance matrix constrained to be spherical, diagonal or non-constrained - full). It is a \"soft clustering\" method, as each point may belong to each cluster with some probability. \n",
    "After fitting, the method .score_samples() returns some probability measure (probability density of the point within the gaussian mixture distribution). \n",
    "\n",
    "Run the cells below to: \n",
    "\n",
    "- Create a GaussianMixture object (you may adapt the parameters if desired)\n",
    "- Fit the object to the data\n",
    "- Get scores for the individual data points using `.score_samples()`\n",
    "\n",
    "If necessary, add a `-` after the equals sign of the assignment (remember, we want outlier scores to be large for outliers, read the documentation to decide this). "
   ]
  },
  {
   "cell_type": "code",
   "execution_count": null,
   "metadata": {},
   "outputs": [],
   "source": [
    "?GaussianMixture"
   ]
  },
  {
   "cell_type": "code",
   "execution_count": null,
   "metadata": {},
   "outputs": [],
   "source": [
    "gmm = GaussianMixture(n_components=5, covariance_type='spherical', random_state=1, n_init=3) \n",
    "gmm.fit(X)"
   ]
  },
  {
   "cell_type": "code",
   "execution_count": null,
   "metadata": {},
   "outputs": [],
   "source": [
    "# gmm is now an GaussianMixture object that is fitted on the data X. \n",
    "# assign the scores using its .score_samples() method, and argument X\n",
    "\n",
    "# gmm_scores = ... \n"
   ]
  },
  {
   "cell_type": "code",
   "execution_count": null,
   "metadata": {},
   "outputs": [],
   "source": [
    "?gmm.score_samples"
   ]
  },
  {
   "cell_type": "markdown",
   "metadata": {},
   "source": [
    "**Question**: It is not trivial to know in advance a good value for the number of components. Can you think of a procedure to estimate it?\n"
   ]
  },
  {
   "cell_type": "code",
   "execution_count": null,
   "metadata": {},
   "outputs": [],
   "source": []
  },
  {
   "cell_type": "markdown",
   "metadata": {},
   "source": [
    "### Nearest neighbours\n",
    "\n",
    "Neighbourhood-based algorithms look at the distances to a point's neighbours to determine its \"outlierness\". \n",
    "In the most basic NearestNeighbor algorithm as used here, the distance of a point to its neighbours is used to measure its outlierness. (The more involved LOF algorithm uses the deviation in local density of a data point with respect to its neighbors). \n",
    "\n",
    "Run the cells below to: \n",
    "- Create a NearestNeighbors object (adapt the parameters if you wish)\n",
    "- Fit the data to this model\n",
    "- Assign the scores to `knn_outlier_scores`, by aggregating the data in `distances_to_neighbors`\n"
   ]
  },
  {
   "cell_type": "markdown",
   "metadata": {},
   "source": [
    "Let's create a NearestNeighbors object, and use that. First, we may want to read some documentation regarding the NearestNeighbors class:"
   ]
  },
  {
   "cell_type": "code",
   "execution_count": null,
   "metadata": {},
   "outputs": [],
   "source": [
    "?NearestNeighbors"
   ]
  },
  {
   "cell_type": "code",
   "execution_count": null,
   "metadata": {},
   "outputs": [],
   "source": [
    "nn = NearestNeighbors(n_neighbors=50)\n",
    "nn.fit(X)\n",
    "\n",
    "# Use the .kneighbors()[0] method to get the distances in the next line\n",
    "# distances_to_neighbors =   "
   ]
  },
  {
   "cell_type": "markdown",
   "metadata": {},
   "source": [
    "The \"heavy lifting\" was done by the `.kneighbors()` method. \n",
    "It returns for each point the distances to the nearest N points, and the index of the nearest point. \n",
    "\n",
    "As a final step, we collapse this distance matrix (m points x N neighbours) to m scores. This may be done in several ways, for instance by taking the mean, or the median. Choose one of the options given below (by default, the mean is taken). "
   ]
  },
  {
   "cell_type": "code",
   "execution_count": null,
   "metadata": {},
   "outputs": [],
   "source": [
    "?nn.kneighbors"
   ]
  },
  {
   "cell_type": "code",
   "execution_count": null,
   "metadata": {},
   "outputs": [],
   "source": [
    "# knn_outlier_scores = np.mean(distances_to_neighbors, axis=1)\n",
    "# knn_outlier_scores = np.median(distances_to_neighbors, axis=1)\n",
    "# knn_outlier_scores = np.max(distances_to_neighbors, axis=1)\n",
    "# knn_outlier_scores = np.min(distances_to_neighbors, axis=1)\n"
   ]
  },
  {
   "cell_type": "markdown",
   "metadata": {},
   "source": [
    "**Question**: what is an interpretation (say when n_neighbours is 11) for the\n",
    "\n",
    "- median\n",
    "- min\n",
    "- max\n",
    "\n",
    "distance to the n_neighbours? \n",
    "Why would you prefer one over the other?"
   ]
  },
  {
   "cell_type": "code",
   "execution_count": null,
   "metadata": {},
   "outputs": [],
   "source": []
  },
  {
   "cell_type": "markdown",
   "metadata": {},
   "source": [
    "### Isolation Forest algorithm\n",
    "\n",
    "The isolation forest algorithm measures how difficult it is to isolate a point from the rest of the data, using a random splitting algorithm. Similar to the Random Forest algorithm, many (`n_estimators`) different trees are built, each time based on a randomly drawn sample (of size `max_samples`).\n",
    "\n",
    "Run the cells below to: \n",
    "- Create an IsolationForest object with the correct parameters\n",
    "- Fit the IsolationForest object with the data\n",
    "- Get the scores using `.score_samples()`\n",
    "\n",
    "If necessary, add a `-` after the equals sign of the assignment (remember, we want outlier scores to be large for outliers. Read the documentation, and note that the score as returned by `.score_samples()` is a measure for the number of needed splits to isolate a point). "
   ]
  },
  {
   "cell_type": "code",
   "execution_count": null,
   "metadata": {},
   "outputs": [],
   "source": [
    "?IsolationForest"
   ]
  },
  {
   "cell_type": "code",
   "execution_count": null,
   "metadata": {},
   "outputs": [],
   "source": [
    "iforest = IsolationForest(n_estimators=100, max_samples=1024, random_state=24)\n",
    "iforest.fit(X)\n"
   ]
  },
  {
   "cell_type": "code",
   "execution_count": null,
   "metadata": {},
   "outputs": [],
   "source": [
    "# Assign the scores to the variable iforest_outlier_scores using the method .score_samples(),\n",
    "# giving X as an argument, taking into account the correct sign. \n",
    "# iforest_outlier_scores = ... "
   ]
  },
  {
   "cell_type": "code",
   "execution_count": null,
   "metadata": {},
   "outputs": [],
   "source": [
    "?iforest.score_samples"
   ]
  },
  {
   "cell_type": "markdown",
   "metadata": {},
   "source": [
    "**Question:** \n",
    "\n",
    "What advantage and disadvantage of this method do you see?\n"
   ]
  },
  {
   "cell_type": "code",
   "execution_count": null,
   "metadata": {},
   "outputs": [],
   "source": []
  },
  {
   "cell_type": "markdown",
   "metadata": {},
   "source": [
    "###  Autoencoder\n",
    "\n",
    "Autoencoders are a special type of neural networks, that are trained to effectively compress and decompress a signal. The idea behind using these networks for outlier detection, is that the neural network is expected to handle \"typical\" datapoints well, whereas it will struggle with outliers. \n",
    "\n",
    "We use the pyod `AutoEncoder` class to construct the network. This way we don't have to bother with the details of building the network, and can focus on the main parameters. \n",
    "\n",
    "Run the cells below to: \n",
    "- Create an Autoencoder object\n",
    "- Train this object on the data\n",
    "- Get the scores using .score_samples()\n"
   ]
  },
  {
   "cell_type": "code",
   "execution_count": null,
   "metadata": {},
   "outputs": [],
   "source": [
    "?AutoEncoder"
   ]
  },
  {
   "cell_type": "code",
   "execution_count": null,
   "metadata": {},
   "outputs": [],
   "source": [
    "?MinMaxScaler"
   ]
  },
  {
   "cell_type": "code",
   "execution_count": null,
   "metadata": {},
   "outputs": [],
   "source": [
    "X_scaled = MinMaxScaler().fit_transform(X)\n",
    "clf = AutoEncoder(\n",
    "    hidden_neurons=[10, 5, 10], # Choose bottleneck here!\n",
    "    hidden_activation='elu',\n",
    "    output_activation='sigmoid', \n",
    "    optimizer='adam',\n",
    "    epochs=10,\n",
    "    batch_size=16,\n",
    "    dropout_rate=0.0, #may not be needed here\n",
    "    l2_regularizer=0.0,\n",
    "    validation_size=0.1,\n",
    "    preprocessing=False, #NB: this uses sklearn's StandardScaler\n",
    "    verbose=1,\n",
    "    random_state=1,\n",
    ")"
   ]
  },
  {
   "cell_type": "code",
   "execution_count": null,
   "metadata": {},
   "outputs": [],
   "source": [
    "clf.fit(X_scaled)"
   ]
  },
  {
   "cell_type": "code",
   "execution_count": null,
   "metadata": {},
   "outputs": [],
   "source": [
    "?AutoEncoder"
   ]
  },
  {
   "cell_type": "markdown",
   "metadata": {},
   "source": [
    "If necessary, add a `-` after the equals sign of the assignment (remember, we want outlier scores to be large for outliers. Read the documentation of `AutoEncoder`, especially regarding the attribute `decision_scores_`)"
   ]
  },
  {
   "cell_type": "code",
   "execution_count": null,
   "metadata": {},
   "outputs": [],
   "source": [
    "# Assign scores to the variable autoenc_outlier_scores, using the `clf.decision_scores_` attribute \n",
    "# NB: this is not a method, and does therefore not need to be called with `()`\n",
    "# autoenc_outlier_scores = ..."
   ]
  },
  {
   "cell_type": "markdown",
   "metadata": {},
   "source": [
    "**Question**: Why do you think we had to scale the data with a MinMaxScaler (hint: the signal needs to be reconstructed by the network). \n"
   ]
  },
  {
   "cell_type": "code",
   "execution_count": null,
   "metadata": {},
   "outputs": [],
   "source": []
  },
  {
   "cell_type": "markdown",
   "metadata": {},
   "source": [
    "## Evaluation\n",
    "\n",
    "In the next section, you will compare how your algorithm did against your \"home-made\" algorithm, using the labels (ground-truth: is a point an outlier or not? In this case: is a transaction fraudulent or not?). \n",
    "Note that this information is usually not available for those problems where we decide to use outlier detection.\n",
    "\n",
    "\n",
    "Look carefully at the plots and assess their meaning. \n",
    "\n"
   ]
  },
  {
   "cell_type": "code",
   "execution_count": 89,
   "metadata": {},
   "outputs": [
    {
     "name": "stdout",
     "output_type": "stream",
     "text": [
      "  % Total    % Received % Xferd  Average Speed   Time    Time     Time  Current\n",
      "                                 Dload  Upload   Total   Spent    Left  Speed\n",
      "100 13595  100 13595    0     0  36253      0 --:--:-- --:--:-- --:--:-- 36156\n"
     ]
    }
   ],
   "source": [
    "# Get the labels, and a helper module\n",
    "import os\n",
    "import pandas as pd\n",
    "force_download = False\n",
    "if force_download or not os.path.exists('y_unsupervised.csv.zip'): # then probably nothing was downloaded yet\n",
    "    !curl -O https://raw.githubusercontent.com/DonErnesto/masterclassSFI_2021/main/data/y_unsupervised.csv.zip\n",
    "if True or not os.path.exists('outlierutils.py'):\n",
    "    !curl -O https://raw.githubusercontent.com/DonErnesto/masterclassSFI_2021/main/outlierutils.py\n",
    "        \n",
    "y = pd.read_csv('y_unsupervised.csv.zip')['Class']\n"
   ]
  },
  {
   "cell_type": "code",
   "execution_count": null,
   "metadata": {},
   "outputs": [],
   "source": [
    "from outlierutils import plot_top_N as ptn, plot_outlier_scores"
   ]
  },
  {
   "cell_type": "code",
   "execution_count": 87,
   "metadata": {},
   "outputs": [],
   "source": [
    "from sklearn.metrics import roc_auc_score, plot_roc_curve, plot_precision_recall_curve, average_precision_score"
   ]
  },
  {
   "cell_type": "code",
   "execution_count": 90,
   "metadata": {},
   "outputs": [
    {
     "ename": "TypeError",
     "evalue": "plot_roc_curve() missing 1 required positional argument: 'y'",
     "output_type": "error",
     "traceback": [
      "\u001b[0;31m---------------------------------------------------------------------------\u001b[0m",
      "\u001b[0;31mTypeError\u001b[0m                                 Traceback (most recent call last)",
      "\u001b[0;32m<ipython-input-90-5e91d4a560fd>\u001b[0m in \u001b[0;36m<module>\u001b[0;34m\u001b[0m\n\u001b[0;32m----> 1\u001b[0;31m \u001b[0mplot_roc_curve\u001b[0m\u001b[0;34m(\u001b[0m\u001b[0my\u001b[0m\u001b[0;34m,\u001b[0m \u001b[0mhomemade_outlier_scores\u001b[0m\u001b[0;34m)\u001b[0m\u001b[0;34m\u001b[0m\u001b[0;34m\u001b[0m\u001b[0m\n\u001b[0m",
      "\u001b[0;32m~/opt/anaconda3/lib/python3.7/site-packages/sklearn/utils/validation.py\u001b[0m in \u001b[0;36minner_f\u001b[0;34m(*args, **kwargs)\u001b[0m\n\u001b[1;32m     61\u001b[0m             \u001b[0mextra_args\u001b[0m \u001b[0;34m=\u001b[0m \u001b[0mlen\u001b[0m\u001b[0;34m(\u001b[0m\u001b[0margs\u001b[0m\u001b[0;34m)\u001b[0m \u001b[0;34m-\u001b[0m \u001b[0mlen\u001b[0m\u001b[0;34m(\u001b[0m\u001b[0mall_args\u001b[0m\u001b[0;34m)\u001b[0m\u001b[0;34m\u001b[0m\u001b[0;34m\u001b[0m\u001b[0m\n\u001b[1;32m     62\u001b[0m             \u001b[0;32mif\u001b[0m \u001b[0mextra_args\u001b[0m \u001b[0;34m<=\u001b[0m \u001b[0;36m0\u001b[0m\u001b[0;34m:\u001b[0m\u001b[0;34m\u001b[0m\u001b[0;34m\u001b[0m\u001b[0m\n\u001b[0;32m---> 63\u001b[0;31m                 \u001b[0;32mreturn\u001b[0m \u001b[0mf\u001b[0m\u001b[0;34m(\u001b[0m\u001b[0;34m*\u001b[0m\u001b[0margs\u001b[0m\u001b[0;34m,\u001b[0m \u001b[0;34m**\u001b[0m\u001b[0mkwargs\u001b[0m\u001b[0;34m)\u001b[0m\u001b[0;34m\u001b[0m\u001b[0;34m\u001b[0m\u001b[0m\n\u001b[0m\u001b[1;32m     64\u001b[0m \u001b[0;34m\u001b[0m\u001b[0m\n\u001b[1;32m     65\u001b[0m             \u001b[0;31m# extra_args > 0\u001b[0m\u001b[0;34m\u001b[0m\u001b[0;34m\u001b[0m\u001b[0;34m\u001b[0m\u001b[0m\n",
      "\u001b[0;31mTypeError\u001b[0m: plot_roc_curve() missing 1 required positional argument: 'y'"
     ]
    }
   ],
   "source": [
    "plot_roc_curve(y, homemade_outlier_scores)"
   ]
  },
  {
   "cell_type": "code",
   "execution_count": 115,
   "metadata": {},
   "outputs": [],
   "source": []
  },
  {
   "cell_type": "code",
   "execution_count": 116,
   "metadata": {},
   "outputs": [],
   "source": [
    "\n",
    "fpr, tpr, _ = roc_curve(y, homemade_outlier_scores)\n",
    "roc_auc = auc(fpr, tpr)\n"
   ]
  },
  {
   "cell_type": "code",
   "execution_count": 105,
   "metadata": {},
   "outputs": [
    {
     "data": {
      "image/png": "[encoded data removed]",
      "text/plain": [
       "<Figure size 432x288 with 1 Axes>"
      ]
     },
     "metadata": {},
     "output_type": "display_data"
    }
   ],
   "source": [
    "plt.figure()\n",
    "lw = 2\n",
    "plt.plot(\n",
    "    fpr,\n",
    "    tpr,\n",
    "    color=\"darkorange\",\n",
    "    lw=lw,\n",
    "    label=\"ROC curve (area = %0.2f)\" % roc_auc,\n",
    ")\n",
    "plt.plot([0, 1], [0, 1], color=\"navy\", lw=lw, linestyle=\"--\")\n",
    "plt.xlim([0.0, 1.0])\n",
    "plt.ylim([0.0, 1.05])\n",
    "plt.xlabel(\"False Positive Rate\")\n",
    "plt.ylabel(\"True Positive Rate\")\n",
    "plt.title(\"Receiver operating characteristic example\")\n",
    "plt.legend(loc=\"lower right\")\n",
    "plt.show()\n",
    "\n"
   ]
  },
  {
   "cell_type": "code",
   "execution_count": 135,
   "metadata": {},
   "outputs": [],
   "source": [
    "from sklearn.metrics import roc_curve, precision_recall_curve, auc, average_precision_score\n",
    "\n",
    "def plot_roc_averageprecision_curves(y_true, y_pred):\n",
    "    fpr, tpr, _ = roc_curve(y, homemade_outlier_scores)\n",
    "    prec, recall, _ = precision_recall_curve(y, homemade_outlier_scores, pos_label=1)\n",
    "\n",
    "    roc_auc = auc(fpr, tpr)\n",
    "    ap = average_precision_score(y, homemade_outlier_scores)\n",
    "    \n",
    "    fig, (ax1, ax2) = plt.subplots(1, 2, figsize=(10, 4))\n",
    "\n",
    "    ax1.plot(\n",
    "        fpr,\n",
    "        tpr,\n",
    "        color=\"darkorange\",\n",
    "        lw=lw,\n",
    "        label=\"ROC curve\")\n",
    "    ax1.plot([0, 1], [0, 1], color=\"navy\", lw=lw, linestyle=\"--\")\n",
    "    ax1.set_xlim([0.0, 1.0])\n",
    "    ax1.set_ylim([0.0, 1.05])\n",
    "    ax1.set_xlabel(\"False Positive Rate\", fontsize=14)\n",
    "    ax1.set_ylabel(\"True Positive Rate\", fontsize=14)\n",
    "    ax1.set_title(f\"ROC curve (AUC = {roc_auc:.2f})\", fontsize=15)\n",
    "    ax1.legend(loc=\"lower right\")\n",
    "\n",
    "    ax2.plot(\n",
    "        recall,\n",
    "        prec,\n",
    "        color=\"darkorange\",\n",
    "        lw=lw,\n",
    "        label=\"Precision-recall curve\")\n",
    "    ax2.set_xlim([0.0, 1.0])\n",
    "    ax2.set_ylim([0.0, 1.05])\n",
    "    ax2.set_xlabel(\"True Positive Rate (Recall)\", fontsize=14)\n",
    "    ax2.set_ylabel(\"Precision\", fontsize=14)\n",
    "    ax2.set_title(f\"AP curve (AUC = {ap:.2f})\", fontsize=15)\n",
    "    ax2.legend(loc=\"lower right\")\n",
    "    plt.display()\n",
    "\n"
   ]
  },
  {
   "cell_type": "code",
   "execution_count": 136,
   "metadata": {},
   "outputs": [
    {
     "data": {
      "image/png": "[encoded data removed]",
      "text/plain": [
       "<Figure size 720x288 with 2 Axes>"
      ]
     },
     "metadata": {},
     "output_type": "display_data"
    }
   ],
   "source": [
    "plot_roc_averageprecision_curves(y, homemade_outlier_scores)"
   ]
  },
  {
   "cell_type": "markdown",
   "metadata": {},
   "source": [
    "### Conditional distributions of the scores, and the AUC metrics\n",
    "\n",
    "NB: \n",
    "- plot your \"homemade\" score and your own algorithm\n",
    "- use np.log1p(your_score) to logtransform your score if needed (in case it has a very long \"tail\")\n",
    "- if a variable name has a red squiggle underneath, it means that the variable doesn't exist. Executing a cell containing such a missing variable will result in a NameError\n"
   ]
  },
  {
   "cell_type": "code",
   "execution_count": null,
   "metadata": {},
   "outputs": [],
   "source": [
    " _ = plot_outlier_scores(y.values, np.log1p(homemade_outlier_scores), title='Homemade: ')"
   ]
  },
  {
   "cell_type": "code",
   "execution_count": null,
   "metadata": {},
   "outputs": [],
   "source": [
    "_ = plot_outlier_scores(y.values, np.log1p(mah_outlier_scores), title='Mahalonobis: ')"
   ]
  },
  {
   "cell_type": "code",
   "execution_count": null,
   "metadata": {},
   "outputs": [],
   "source": [
    "_ = plot_outlier_scores(y.values, gmm_scores - min(gmm_scores), title='GMM: ')"
   ]
  },
  {
   "cell_type": "code",
   "execution_count": null,
   "metadata": {},
   "outputs": [],
   "source": [
    "_ = plot_outlier_scores(y.values, np.log1p(knn_outlier_scores), title='KNN: ')"
   ]
  },
  {
   "cell_type": "code",
   "execution_count": null,
   "metadata": {},
   "outputs": [],
   "source": [
    "_ = plot_outlier_scores(y.values, iforest_outlier_scores, title='Isolation Forest: ')"
   ]
  },
  {
   "cell_type": "code",
   "execution_count": null,
   "metadata": {},
   "outputs": [],
   "source": [
    "_ = plot_outlier_scores(y.values, autoenc_outlier_scores, title='Autoencoder: ')"
   ]
  },
  {
   "cell_type": "markdown",
   "metadata": {},
   "source": [
    "### Precision@top-N"
   ]
  },
  {
   "cell_type": "markdown",
   "metadata": {},
   "source": [
    "The following plots shows how many of the top-N points in terms of score were actual outliers (the more yellow the plot, the better the algorithm performed).\n"
   ]
  },
  {
   "cell_type": "code",
   "execution_count": null,
   "metadata": {},
   "outputs": [],
   "source": [
    "_ = plot_top_N(y_true=y, scores=homemade_outlier_scores, N=100)"
   ]
  },
  {
   "cell_type": "code",
   "execution_count": null,
   "metadata": {},
   "outputs": [],
   "source": [
    "_ = plot_top_N(y_true=y, scores=mah_outlier_scores, N=100)"
   ]
  },
  {
   "cell_type": "code",
   "execution_count": null,
   "metadata": {},
   "outputs": [],
   "source": [
    "_ = plot_top_N(y_true=y, scores=gmm_scores, N=100)"
   ]
  },
  {
   "cell_type": "code",
   "execution_count": null,
   "metadata": {},
   "outputs": [],
   "source": [
    "_ = plot_top_N(y_true=y, scores=knn_outlier_scores, N=100)"
   ]
  },
  {
   "cell_type": "code",
   "execution_count": null,
   "metadata": {},
   "outputs": [],
   "source": [
    "_ = plot_top_N(y_true=y, scores=iforest_outlier_scores, N=100)"
   ]
  },
  {
   "cell_type": "code",
   "execution_count": null,
   "metadata": {},
   "outputs": [],
   "source": [
    "_ = plot_top_N(y_true=y, scores=autoenc_outlier_scores, N=100)"
   ]
  },
  {
   "cell_type": "markdown",
   "metadata": {},
   "source": [
    "# Discussion\n",
    "\n",
    "- Which home-made outlier model did you choose and why?\n",
    "- How did it perform?\n",
    "- What choices did you make for the outlier algorithm, if any, and why?\n",
    "- How did it perform, also relative to the home-made model?\n",
    "- Answers to the algorithm-specific questions\n"
   ]
  },
  {
   "cell_type": "code",
   "execution_count": null,
   "metadata": {},
   "outputs": [],
   "source": []
  }
 ],
 "metadata": {
  "kernelspec": {
   "display_name": "Python 3",
   "language": "python",
   "name": "python3"
  },
  "language_info": {
   "codemirror_mode": {
    "name": "ipython",
    "version": 3
   },
   "file_extension": ".py",
   "mimetype": "text/x-python",
   "name": "python",
   "nbconvert_exporter": "python",
   "pygments_lexer": "ipython3",
   "version": "3.7.6"
  }
 },
 "nbformat": 4,
 "nbformat_minor": 5
}
